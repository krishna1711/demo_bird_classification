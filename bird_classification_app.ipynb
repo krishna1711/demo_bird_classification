{
  "nbformat": 4,
  "nbformat_minor": 0,
  "metadata": {
    "colab": {
      "name": "bird_classification_app.ipynb",
      "provenance": [],
      "collapsed_sections": []
    },
    "kernelspec": {
      "name": "python3",
      "display_name": "Python 3"
    },
    "language_info": {
      "name": "python"
    },
    "accelerator": "GPU"
  },
  "cells": [
    {
      "cell_type": "code",
      "metadata": {
        "id": "3bjOijI1g9Gs"
      },
      "source": [
        "# !pip install fastai --upgrade\n",
        "# !!pip install fastai==2.0\n",
        "# !pip install voila\n",
        "# !jupyter serverextension enable voila --sys-prefix"
      ],
      "execution_count": 3,
      "outputs": []
    },
    {
      "cell_type": "code",
      "metadata": {
        "id": "9ucFoNY9884Z"
      },
      "source": [
        "from fastai.vision.all import *\n",
        "from fastai.vision.widgets import *"
      ],
      "execution_count": 3,
      "outputs": []
    },
    {
      "cell_type": "markdown",
      "metadata": {
        "id": "rpyCQSTTkdtd"
      },
      "source": [
        "# Welcome to the Bird Classifier App"
      ]
    },
    {
      "cell_type": "code",
      "execution_count": null,
      "metadata": {},
      "outputs": [],
      "source": [
        "btn_upload = widgets.FileUpload()\n",
        "out_pl = widgets.Output()\n",
        "lbl_pred = widgets.Label()"
      ]
    },
    {
      "cell_type": "code",
      "metadata": {
        "id": "iKEmJ3B49AJz"
      },
      "source": [
        "def on_click_classify(change):\n",
        "  def parent_label_custom(o):\n",
        "    \"Label `item` with the parent folder name.\"\n",
        "    return Path(o).parent.name.split(\".\")[-1]\n",
        "  # path = Path(\"/content/gdrive/MyDrive/cub_2002011_ds/models\")\n",
        "  path = Path()\n",
        "  learn = load_learner(path/\"bird_model_resnet152_ip.pkl\",cpu=True)\n",
        "\n",
        "  img = PILImage.create(btn_upload.data[-1])\n",
        "  out_pl.clear_output()\n",
        "  with out_pl: display(img.to_thumb(128,128))\n",
        "  pred,pred_idx,probs = learn.predict(img)\n",
        "  lbl_pred.value = f'Prediction: {pred}; Probability: {probs[pred_idx]:.04f}'\n"
      ],
      "execution_count": null,
      "outputs": []
    },
    {
      "cell_type": "code",
      "metadata": {
        "id": "08jrHhZxj3jg"
      },
      "source": [
        "btn_upload.observe(on_click_classify,names=['data'])\n",
        "## display\n",
        "display(VBox([widgets.Label('Select your Bird : '),btn_upload,out_pl,lbl_pred]))"
      ],
      "execution_count": null,
      "outputs": []
    }
  ]
}